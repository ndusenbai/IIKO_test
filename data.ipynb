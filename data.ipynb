{
 "cells": [
  {
   "cell_type": "code",
   "execution_count": 1,
   "id": "4d10eb97",
   "metadata": {},
   "outputs": [],
   "source": [
    "import random\n",
    "from random import randrange\n",
    "import datetime \n",
    "import sqlite3"
   ]
  },
  {
   "cell_type": "code",
   "execution_count": 2,
   "id": "3cec724d",
   "metadata": {},
   "outputs": [],
   "source": [
    "listSurname = [\"Федотов\", \"Соболева\", \"Пятина\", \"Пашаев\", \"Новиков\", \"Иванюта\", \"Зенин\", \"Виноградов\", \"Бондарев\", \"Бабаджанова\", 'Бегунов', \"Шлеков\", 'Горбушин', 'Гаршкова', \"Гриненко\", \"Егорова\", \"Жариков\", \"Зданович\", \"Илизаров\", \"Исаев\", \"Исхаков\", \"Коломытцева\", \"Кондаурова\", \"Коночкина\", \"Кудряшов\", \"Лещенко\", \"Марчукова\", \"Маслеников\", \"Морланг\", \"Моторова\", \"Никифорова\", \"Садыков\", \"Самсонов\", \"Семёнов\", \"Соловьева\", \"Спирин\", \"Уткин\", \"Филиппова\", \"Чаплыгина\", \"Шлокова\"]\n",
    "listNames = [\"Фёдор\", \"Анастасия\", \"Анна\", \"Рафаэль\", \"Дмитрий\", \"Михаил\", \"Виктор\", \"Клим\", \"Никита\", \"Елена\", \"Григорий\", \"Виталий\", \"Мария\", \"Алексей\", \"Алина\", \"Алексей\", \"Артем\", \"Тимофей\", \"Год\", \"Максим\", \"Даниил\", \"Ольга\", \"Ксения\", \"Маргарита\" , \"Дмитрий\", \"Сергей\", \"Кристина\", \"Денис\", \"Елизавета\", \"Вита\", \"Екатерина\", \"Артур\", \"Константин\", \"Никита\", \"Александра\", \"Кирилл\", \"Глеб\", \"Ирина\", \"Светлана\", \"Ксения\"]\n",
    "listPatronymic = [\"Алексеевич\", \"Олеговна\", \"Константиновна\", \"Яхьяевич\", \"Евгеньевич\", \"Валерьевич\", \"Олегович\", \"Николаевич\", \"Сергеевич\", \"Александровна\", \"Андреевич\", \"Валерьевич\", \"Геннадьевна\", \"Алексеевич\", \"Александровна\", \"Евгеньевич\", \"Иванович\", \"Владимирович\", \"Эмануилович\", \"Дмитриевич\", \"Рамильевич\", \"Андреевна\", \"Сергеевна\", \"Николаевна\", \"Романович\", \"Михайлович\", \"Владимировна\", \"Олегович\", \"Алексеевна\", \"Александровна\", \"Игоревна\", \"Маратович\", \"Сергеевич\", \"Антонович\", \"Константиновна\", \"Андреевич\", \"Игорьевич\", \"Сергеевна\", \"Сергеевна\", \"Александровна\"]\n",
    "listJobTitle = ['Директор', 'Админестратор', 'Старший офицант', 'Офицант', 'Повор']"
   ]
  },
  {
   "cell_type": "code",
   "execution_count": 3,
   "id": "ec4a1f7b",
   "metadata": {},
   "outputs": [],
   "source": [
    "def jobMoney(jobType):\n",
    "    if jobType == 1:\n",
    "        jobMoney = random.randint(200000, 300000)\n",
    "        return jobMoney\n",
    "    elif jobType == 2:\n",
    "        jobMoney = random.randint(170000, 250000) \n",
    "        return jobMoney\n",
    "    elif jobType == 3:     \n",
    "        jobMoney = random.randint(120000, 200000)\n",
    "        return jobMoney\n",
    "    elif jobType == 4:     \n",
    "        jobMoney = random.randint(50000, 170000)\n",
    "        return jobMoney\n",
    "    else:     \n",
    "        jobMoney = random.randint(100000, 210000)\n",
    "        return jobMoney"
   ]
  },
  {
   "cell_type": "code",
   "execution_count": 4,
   "id": "18ca56d9",
   "metadata": {},
   "outputs": [],
   "source": [
    "def fullName(ixSurname, ixName, ixPatronymic):\n",
    "    fullName = listSurname[ixSurname] + ' ' + listNames[personName]+ ' ' + listPatronymic[personPatronymic]\n",
    "    return fullName"
   ]
  },
  {
   "cell_type": "code",
   "execution_count": 5,
   "id": "9d2912d6",
   "metadata": {},
   "outputs": [],
   "source": [
    "for item in range(50000, 50400):\n",
    "    personSurname = random.randint(0, 39)\n",
    "    personName = random.randint(0, 39)\n",
    "    personPatronymic = random.randint(0, 39)\n",
    "\n",
    "    jobType =  random.randint(1, 5)\n",
    "\n",
    "    start_date = datetime.date(2000,  1, 1)\n",
    "    end_date = datetime.date(2022, 6, 1)\n",
    "\n",
    "    time_between_dates = end_date - start_date\n",
    "    days_between_dates = time_between_dates.days\n",
    "    random_number_of_days = random.randrange(days_between_dates)\n",
    "    random_date = start_date + datetime.timedelta(days=random_number_of_days)\n",
    "\n",
    "    conn = sqlite3.connect('db.sqlite3')\n",
    "    cur = conn.cursor()\n",
    "\n",
    "    data = (item, listNames[personName], listSurname[personSurname], listPatronymic[personPatronymic], fullName(personSurname, personName, personPatronymic), random_date, jobMoney(jobType), jobType, )\n",
    "\n",
    "    cur.execute(\"INSERT INTO api_person VALUES(?, ?, ?, ?, ?, ?, ?, ?);\", data)\n",
    "    conn.commit()"
   ]
  },
  {
   "cell_type": "code",
   "execution_count": 130,
   "id": "b3471380",
   "metadata": {},
   "outputs": [
    {
     "name": "stdout",
     "output_type": "stream",
     "text": [
      "Маслеников\n",
      "Сергей\n",
      "Алексеевна\n",
      "Маслеников Сергей Алексеевна\n",
      "2\n",
      "2017-03-30\n",
      "245549\n"
     ]
    }
   ],
   "source": [
    "print(listSurname[personSurname])\n",
    "print(listNames[personName])\n",
    "print(listPatronymic[personPatronymic])\n",
    "\n",
    "print(fullName(personSurname, personName, personPatronymic))\n",
    "print(jobType)\n",
    "print(random_date)\n",
    "print(jobMoney(jobType))"
   ]
  }
 ],
 "metadata": {
  "kernelspec": {
   "display_name": "Python 3 (ipykernel)",
   "language": "python",
   "name": "python3"
  },
  "language_info": {
   "codemirror_mode": {
    "name": "ipython",
    "version": 3
   },
   "file_extension": ".py",
   "mimetype": "text/x-python",
   "name": "python",
   "nbconvert_exporter": "python",
   "pygments_lexer": "ipython3",
   "version": "3.9.7"
  }
 },
 "nbformat": 4,
 "nbformat_minor": 5
}
